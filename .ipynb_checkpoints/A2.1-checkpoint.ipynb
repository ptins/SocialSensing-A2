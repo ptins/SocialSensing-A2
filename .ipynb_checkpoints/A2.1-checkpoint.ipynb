{
 "cells": [
  {
   "cell_type": "code",
   "execution_count": 1,
   "metadata": {},
   "outputs": [],
   "source": [
    "import json \n",
    "import numpy as np"
   ]
  },
  {
   "cell_type": "code",
   "execution_count": 2,
   "metadata": {},
   "outputs": [],
   "source": [
    "def jacc_dist(tweet1, tweet2):\n",
    "    a = set(tweet1.split(' '))\n",
    "    b = set(tweet2.split(' '))\n",
    "    a_and_b = a.intersection(b)\n",
    "    a_union_b = a.union(b)\n",
    "    return 1-len(a_and_b)/len(a_union_b)"
   ]
  },
  {
   "cell_type": "code",
   "execution_count": 3,
   "metadata": {},
   "outputs": [],
   "source": [
    "tweet_dict = {}\n",
    "for tweet in open('./tweets.json'):\n",
    "    tweet_json = json.loads(tweet)\n",
    "    tweet_dict[tweet_json['id']] = tweet_json['text']"
   ]
  },
  {
   "cell_type": "code",
   "execution_count": 4,
   "metadata": {},
   "outputs": [],
   "source": [
    "with open('./seeds.txt') as f:\n",
    "    initial_centroid_ids = f.readlines()\n",
    "initial_centroid_ids = [int(x.strip().replace(',','')) for x in initial_centroid_ids]"
   ]
  },
  {
   "cell_type": "code",
   "execution_count": null,
   "metadata": {},
   "outputs": [],
   "source": [
    "# what we have:\n",
    "# - tweet_dict (dictionary): tweet_id, tweet_text\n",
    "# - initial_centroid_ids (list): centroid_id"
   ]
  }
 ],
 "metadata": {
  "kernelspec": {
   "display_name": "Python 3",
   "language": "python",
   "name": "python3"
  },
  "language_info": {
   "codemirror_mode": {
    "name": "ipython",
    "version": 3
   },
   "file_extension": ".py",
   "mimetype": "text/x-python",
   "name": "python",
   "nbconvert_exporter": "python",
   "pygments_lexer": "ipython3",
   "version": "3.6.4"
  }
 },
 "nbformat": 4,
 "nbformat_minor": 2
}
